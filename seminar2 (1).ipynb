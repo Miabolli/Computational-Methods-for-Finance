{
 "cells": [
  {
   "cell_type": "markdown",
   "id": "6c9c73dd-491f-4a16-bf8c-b508b72cbf4e",
   "metadata": {},
   "source": [
    "# Question 1"
   ]
  },
  {
   "cell_type": "code",
   "execution_count": 1,
   "id": "43236678-daf3-4b8f-ad9b-66a5e6afb100",
   "metadata": {},
   "outputs": [
    {
     "name": "stdout",
     "output_type": "stream",
     "text": [
      "Hello World!\n"
     ]
    }
   ],
   "source": [
    "print ('Hello World!')\n"
   ]
  },
  {
   "cell_type": "markdown",
   "id": "6f465e2a-ee15-44d1-a5ce-a27df7c06c9c",
   "metadata": {},
   "source": [
    "# Question 2"
   ]
  },
  {
   "cell_type": "code",
   "execution_count": 12,
   "id": "8de59cd2-939e-4dd9-b6f7-38cf6364e19e",
   "metadata": {},
   "outputs": [
    {
     "name": "stdout",
     "output_type": "stream",
     "text": [
      "0\n",
      "1\n",
      "2\n",
      "3\n",
      "4\n"
     ]
    }
   ],
   "source": [
    "for x in range(10):\n",
    "    if x < 5:\n",
    "        print(x)"
   ]
  },
  {
   "cell_type": "markdown",
   "id": "a297adbb-6ded-4cb0-8130-5a2c6ce951e9",
   "metadata": {},
   "source": [
    "# Question 3 "
   ]
  },
  {
   "cell_type": "code",
   "execution_count": 8,
   "id": "3ab2d920-7d3f-429c-b58f-ac6ad50dc7cb",
   "metadata": {},
   "outputs": [
    {
     "name": "stdout",
     "output_type": "stream",
     "text": [
      "<class 'str'>\n",
      "<class 'float'>\n",
      "100.0 <class 'float'>\n"
     ]
    }
   ],
   "source": [
    "print(type('100'))\n",
    "print(type(float('100')))\n",
    "print(float('100'), type(float('100')))"
   ]
  },
  {
   "cell_type": "markdown",
   "id": "62dada01-7eb5-4d64-b90b-d30fee02ca2a",
   "metadata": {},
   "source": [
    "# Question 4"
   ]
  },
  {
   "cell_type": "code",
   "execution_count": 12,
   "id": "13fdede7-0ada-41e8-bafd-38c60738b9c5",
   "metadata": {},
   "outputs": [
    {
     "name": "stdout",
     "output_type": "stream",
     "text": [
      "<class 'NoneType'>\n"
     ]
    }
   ],
   "source": [
    "value = None\n",
    "print(type(value))"
   ]
  },
  {
   "cell_type": "markdown",
   "id": "56070ff6-7cc9-40e5-a96d-141a5e6153b8",
   "metadata": {},
   "source": [
    "# Question 5\n"
   ]
  },
  {
   "cell_type": "code",
   "execution_count": 27,
   "id": "7923e28d-71e9-4f5e-9d91-2fef4f58a9c7",
   "metadata": {},
   "outputs": [
    {
     "name": "stdout",
     "output_type": "stream",
     "text": [
      "0 -0.1 -0.05\n"
     ]
    }
   ],
   "source": [
    "x=-0.05\n",
    "print(round(x), round(x, 1), round(x, 2))"
   ]
  },
  {
   "cell_type": "markdown",
   "id": "ff042bfc-bc3f-4717-8c50-abdeb411b149",
   "metadata": {},
   "source": [
    "# Question 6\n"
   ]
  },
  {
   "cell_type": "code",
   "execution_count": 39,
   "id": "5e72f4bd-9fa7-47a9-9302-8552cb7f56a3",
   "metadata": {},
   "outputs": [
    {
     "name": "stdin",
     "output_type": "stream",
     "text": [
      "you, I need your name, NOW! Mia\n",
      "please tell me your age 35\n"
     ]
    },
    {
     "name": "stdout",
     "output_type": "stream",
     "text": [
      "My name is Mia and I am 35 years old!\n"
     ]
    }
   ],
   "source": [
    "name=input ('you, I need your name, NOW!')\n",
    "age= input ('please tell me your age')\n",
    "\n",
    "print ('My name is ' + name + ' and I am ' + age + ' years old!')"
   ]
  },
  {
   "cell_type": "markdown",
   "id": "859c8733-ec35-4d25-9a83-eea8b03b2646",
   "metadata": {},
   "source": [
    "# Question 7"
   ]
  },
  {
   "cell_type": "code",
   "execution_count": 72,
   "id": "432ec95e-9589-4663-83b5-0e2ffaa23024",
   "metadata": {},
   "outputs": [
    {
     "name": "stdout",
     "output_type": "stream",
     "text": [
      "[[ 1  2  3  4]\n",
      " [ 5  6  7  8]\n",
      " [ 9 10 11 12]\n",
      " [13 14 15 16]]\n"
     ]
    }
   ],
   "source": [
    "import numpy as np\n",
    "Matrix = np.arange(1,17).reshape((4, 4))\n",
    "print(Matrix)"
   ]
  },
  {
   "cell_type": "markdown",
   "id": "a1488ff5-5c92-4d4f-b79e-2d4bee9a13c1",
   "metadata": {},
   "source": [
    "# Question 8"
   ]
  },
  {
   "cell_type": "code",
   "execution_count": 78,
   "id": "b76fb7d5-cdff-4449-8bd8-ae8a96b2636a",
   "metadata": {},
   "outputs": [
    {
     "name": "stdout",
     "output_type": "stream",
     "text": [
      "10\n",
      "4.47213595499958\n",
      "2\n"
     ]
    }
   ],
   "source": [
    "sumr0 = np.sum(Matrix[0,:])\n",
    "stdc1 = np.std(Matrix[:,1])\n",
    "ele01 = Matrix[0,1]\n",
    "print(sumr0)\n",
    "print(stdc1)\n",
    "print(ele01)"
   ]
  },
  {
   "cell_type": "markdown",
   "id": "246e3b8c-604d-45fd-9d9f-1221ee5e0e6c",
   "metadata": {},
   "source": [
    "# Question 9"
   ]
  },
  {
   "cell_type": "code",
   "execution_count": 98,
   "id": "ce75055d-258f-4e96-b834-f963dd901088",
   "metadata": {},
   "outputs": [
    {
     "name": "stdout",
     "output_type": "stream",
     "text": [
      "[[0. 0. 0. 0.]\n",
      " [0. 0. 0. 0.]\n",
      " [0. 0. 0. 0.]]\n"
     ]
    }
   ],
   "source": [
    "import numpy as np\n",
    "matrix = np.zeros ((3, 4))\n",
    "print(matrix)"
   ]
  },
  {
   "cell_type": "code",
   "execution_count": null,
   "id": "18ef141b-4930-43f7-aa75-adbaf09e92da",
   "metadata": {},
   "outputs": [],
   "source": []
  },
  {
   "cell_type": "code",
   "execution_count": null,
   "id": "fc73f4d3-509d-480f-9fc8-d803e8ac5cf3",
   "metadata": {},
   "outputs": [],
   "source": []
  },
  {
   "cell_type": "code",
   "execution_count": null,
   "id": "d8533234-8298-4224-8006-5d2d434bdc49",
   "metadata": {},
   "outputs": [],
   "source": []
  }
 ],
 "metadata": {
  "kernelspec": {
   "display_name": "Python 3 (ipykernel)",
   "language": "python",
   "name": "python3"
  },
  "language_info": {
   "codemirror_mode": {
    "name": "ipython",
    "version": 3
   },
   "file_extension": ".py",
   "mimetype": "text/x-python",
   "name": "python",
   "nbconvert_exporter": "python",
   "pygments_lexer": "ipython3",
   "version": "3.12.4"
  }
 },
 "nbformat": 4,
 "nbformat_minor": 5
}
